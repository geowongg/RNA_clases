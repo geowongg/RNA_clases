{
  "cells": [
    {
      "cell_type": "markdown",
      "metadata": {
        "id": "nuOoFJ408Ajx"
      },
      "source": [
        "# Ejemplo de una Red Neuronal Convolucional (CNN)"
      ]
    },
    {
      "cell_type": "markdown",
      "metadata": {
        "id": "sx91gByy8Aj0"
      },
      "source": [
        "[![Open In Colab](https://colab.research.google.com/assets/colab-badge.svg)](https://colab.research.google.com/github/{user_name}/{repo_name}/blob/{branch_name}/path/to/notebook.ipynb)"
      ]
    },
    {
      "cell_type": "code",
      "execution_count": null,
      "metadata": {
        "id": "6knrWHj28Aj1"
      },
      "outputs": [],
      "source": [
        "# LIBRERÍAS REQUERIDAS\n",
        "import platform\n",
        "print('python: '+platform.python_version())\n",
        "import numpy as np\n",
        "print('numpy: '+np.__version__)\n",
        "import matplotlib\n",
        "print('matplotlib: '+matplotlib.__version__)\n",
        "import matplotlib.pyplot as plt\n",
        "import pandas as pd"
      ]
    },
    {
      "cell_type": "markdown",
      "metadata": {
        "id": "ctmUeert8Aj2"
      },
      "source": [
        "## Aplicación: Keras\n",
        "Existen diversas aplicaciones de ML que permiten la creación y manejo de CNNs. Una de las más usadas es TensorFlow, la cual podemos utilizar con mayor facilidad a través de la plataforma \"Keras\".\n",
        "\n",
        "Para más información: https://www.tensorflow.org/guide/keras"
      ]
    },
    {
      "cell_type": "code",
      "execution_count": null,
      "metadata": {
        "id": "DlPrsGjI8Aj2"
      },
      "outputs": [],
      "source": [
        "# Usamos \"keras\" para crear la CNN\n",
        "from keras.models import Sequential\n",
        "from keras.layers import Conv2D"
      ]
    },
    {
      "cell_type": "markdown",
      "metadata": {
        "id": "wHte5-sp8Aj2"
      },
      "source": [
        "### Creando una imagen\n",
        "Iniciamos creando una imagen a partir de un arreglo de \"pixeles\", con valores 0 o 1."
      ]
    },
    {
      "cell_type": "code",
      "execution_count": null,
      "metadata": {
        "id": "d6VSPeWl8Aj3"
      },
      "outputs": [],
      "source": [
        "# define input data\n",
        "data = [[0, 0, 0, 1, 1, 0, 0, 0],\n",
        " [0, 0, 0, 1, 1, 0, 0, 0],\n",
        " [0, 0, 0, 1, 1, 0, 0, 0],\n",
        " [0, 0, 0, 1, 1, 0, 0, 0],\n",
        " [0, 0, 0, 1, 1, 0, 0, 0],\n",
        " [0, 0, 0, 1, 1, 0, 0, 0],\n",
        " [0, 0, 0, 1, 1, 0, 0, 0],\n",
        " [0, 0, 0, 1, 1, 0, 0, 0]]\n",
        "data = np.asarray(data)\n",
        "\n",
        "# En CNN, un tensor tiene la forma (# de datos)x(# de filas)x(# de columnas)x(# de canales)\n",
        "data = data.reshape(1, 8, 8, 1)"
      ]
    },
    {
      "cell_type": "markdown",
      "metadata": {
        "id": "XrFZz0F88Aj3"
      },
      "source": [
        "### Creamos el modelo Secuencial"
      ]
    },
    {
      "cell_type": "code",
      "execution_count": null,
      "metadata": {
        "id": "Tqr2jo2R8Aj3"
      },
      "outputs": [],
      "source": [
        "# Creando el modelo\n",
        "model = Sequential()\n",
        "# Convolución en 2D, con filtro de 3x3, función ReLU, a una imagen de 8x8\n",
        "model.add(Conv2D(1, (3,3), activation='relu', input_shape=(8, 8, 1)))\n",
        "# Resumen del modelo\n",
        "model.summary()"
      ]
    },
    {
      "cell_type": "markdown",
      "metadata": {
        "id": "FoQ4nLKb8Aj3"
      },
      "source": [
        "### Definimos el kernel\n",
        "El objetivo es identificar una línea vertical en la imagen."
      ]
    },
    {
      "cell_type": "code",
      "execution_count": null,
      "metadata": {
        "id": "W8HJlvND8Aj3"
      },
      "outputs": [],
      "source": [
        "# El objetivo es detectar una línea vertical en la imagen\n",
        "detector = [[[[0]],[[1]],[[0]]],\n",
        "            [[[0]],[[1]],[[0]]],\n",
        "            [[[0]],[[1]],[[0]]]]\n",
        "weights = [np.asarray(detector), np.asarray([0.0])]\n",
        "# Agregar los pesos al modelo\n",
        "model.set_weights(weights)"
      ]
    },
    {
      "cell_type": "markdown",
      "metadata": {
        "id": "6ZIOK9JF8Aj4"
      },
      "source": [
        "### Aplicando el kernel(filtro)"
      ]
    },
    {
      "cell_type": "code",
      "execution_count": null,
      "metadata": {
        "id": "xFH3jXb18Aj4"
      },
      "outputs": [],
      "source": [
        "# Aplicando el kernel usando la función predict()\n",
        "yhat = model.predict(data)"
      ]
    },
    {
      "cell_type": "markdown",
      "metadata": {
        "id": "s8lNf9xt8Aj4"
      },
      "source": [
        "### Imprimiendo el resultado"
      ]
    },
    {
      "cell_type": "code",
      "execution_count": null,
      "metadata": {
        "id": "ZIZKiFeo8Aj4"
      },
      "outputs": [],
      "source": [
        "# Renglón por renglón\n",
        "for r in range(yhat.shape[1]):\n",
        " # Columnas\n",
        " print([yhat[0,r,c,0] for c in range(yhat.shape[2])])"
      ]
    }
  ],
  "metadata": {
    "kernelspec": {
      "display_name": "py39",
      "language": "python",
      "name": "python3"
    },
    "language_info": {
      "codemirror_mode": {
        "name": "ipython",
        "version": 3
      },
      "file_extension": ".py",
      "mimetype": "text/x-python",
      "name": "python",
      "nbconvert_exporter": "python",
      "pygments_lexer": "ipython3",
      "version": "3.9.18"
    },
    "colab": {
      "provenance": []
    }
  },
  "nbformat": 4,
  "nbformat_minor": 0
}